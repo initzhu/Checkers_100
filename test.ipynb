{
 "cells": [
  {
   "cell_type": "code",
   "execution_count": 62,
   "metadata": {},
   "outputs": [
    {
     "ename": "IndentationError",
     "evalue": "expected an indented block after 'for' statement on line 374 (engine.py, line 374)",
     "output_type": "error",
     "traceback": [
      "Traceback \u001b[1;36m(most recent call last)\u001b[0m:\n",
      "\u001b[0m  File \u001b[0;32mc:\\Program Files\\Python312\\Lib\\site-packages\\IPython\\core\\interactiveshell.py:3577\u001b[0m in \u001b[0;35mrun_code\u001b[0m\n    exec(code_obj, self.user_global_ns, self.user_ns)\u001b[0m\n",
      "\u001b[0m  Cell \u001b[0;32mIn[62], line 1\u001b[0m\n    import draughts\u001b[0m\n",
      "\u001b[0m  File \u001b[0;32mc:\\Fumi\\Desktop\\py3\\python_draughts-main\\draughts\\__init__.py:8\u001b[0m\n    from board import *\u001b[0m\n",
      "\u001b[1;36m  File \u001b[1;32mC:\\Fumi\\Desktop\\py3\\python_draughts-main\\draughts\\board.py:2\u001b[1;36m\n\u001b[1;33m    import engine\u001b[1;36m\n",
      "\u001b[1;36m  File \u001b[1;32mC:\\Fumi\\Desktop\\py3\\python_draughts-main\\draughts\\engine.py:374\u001b[1;36m\u001b[0m\n\u001b[1;33m    for move in self.board.valid_moves():\u001b[0m\n\u001b[1;37m                                         ^\u001b[0m\n\u001b[1;31mIndentationError\u001b[0m\u001b[1;31m:\u001b[0m expected an indented block after 'for' statement on line 374\n"
     ]
    }
   ],
   "source": [
    "import draughts\n",
    "\n",
    "my_board = draughts.Board()\n",
    "my_board.push(\"c3d4\")\n",
    "my_board.show()\n"
   ]
  },
  {
   "cell_type": "code",
   "execution_count": null,
   "metadata": {},
   "outputs": [
    {
     "name": "stdout",
     "output_type": "stream",
     "text": [
      "[0, 1, 0, 1, 0, 1, 0, 1, 0, 1]\n",
      "[1, 0, 1, 0, 1, 0, 1, 0, 1, 0]\n",
      "[0, 1, 0, 1, 0, 1, 0, 1, 0, 1]\n",
      "[1, 0, 1, 0, 1, 0, 1, 0, 1, 0]\n",
      "[0, 1, 0, 1, 0, 1, 0, 1, 0, 1]\n",
      "[1, 0, 1, 0, 1, 0, 1, 0, 1, 0]\n",
      "[0, 1, 0, 1, 0, 1, 0, 1, 0, 1]\n",
      "[1, 0, 1, 0, 1, 0, 1, 0, 1, 0]\n",
      "[0, 1, 0, 1, 0, 1, 0, 1, 0, 1]\n",
      "[1, 0, 1, 0, 1, 0, 1, 0, 1, 0]\n"
     ]
    }
   ],
   "source": [
    "# 创建一个10x10的棋盘，用0表示黑格，1表示白格\n",
    "chessboard = [[0 if (i + j) % 2 == 0 else 1 for j in range(10)] for i in range(10)]\n",
    "\n",
    "# 打印棋盘\n",
    "for row in chessboard:\n",
    "    print(row)\n"
   ]
  },
  {
   "cell_type": "code",
   "execution_count": 66,
   "metadata": {},
   "outputs": [
    {
     "name": "stdout",
     "output_type": "stream",
     "text": [
      "   A     A     A     A     A\n",
      "A     A     A     A     A   \n",
      "   A     A     A     A     A\n",
      "A     A     A     A     A   \n",
      "   *     *     *     *     *\n",
      "*     *     *     *     *   \n",
      "   Q     Q     Q     Q     Q\n",
      "Q     Q     Q     Q     Q   \n",
      "   Q     Q     Q     Q     Q\n",
      "Q     Q     Q     Q     Q   \n",
      "\n",
      "\n",
      "    1     2     3     4     5\n",
      " 6     7     8     9    10   \n",
      "   11    12    13    14    15\n",
      "16    17    18    19    20   \n",
      "   21    22    23    24    25\n",
      "26    27    28    29    30   \n",
      "   31    32    33    34    35\n",
      "36    37    38    39    40   \n",
      "   41    42    43    44    45\n",
      "46    47    48    49    50   \n"
     ]
    }
   ],
   "source": [
    "# 创建一个10x10的棋盘，用字母表示棋子\n",
    "chessboardFirst = [\n",
    "    [' ', 'A', ' ', 'A', ' ', 'A', ' ', 'A', ' ', 'A'],\n",
    "    ['A', ' ', 'A', ' ', 'A', ' ', 'A', ' ', 'A', ' '],\n",
    "    [' ', 'A', ' ', 'A', ' ', 'A', ' ', 'A', ' ', 'A'],\n",
    "    ['A', ' ', 'A', ' ', 'A', ' ', 'A', ' ', 'A', ' '],\n",
    "    [' ', '*', ' ', '*', ' ', '*', ' ', '*', ' ', '*'],\n",
    "    ['*', ' ', '*', ' ', '*', ' ', '*', ' ', '*', ' '],\n",
    "    [' ', 'Q', ' ', 'Q', ' ', 'Q', ' ', 'Q', ' ', 'Q'],\n",
    "    ['Q', ' ', 'Q', ' ', 'Q', ' ', 'Q', ' ', 'Q', ' '],\n",
    "    [' ', 'Q', ' ', 'Q', ' ', 'Q', ' ', 'Q', ' ', 'Q'],\n",
    "    ['Q', ' ', 'Q', ' ', 'Q', ' ', 'Q', ' ', 'Q', ' ']\n",
    "]\n",
    "chessboardNum = chessboardFirst\n",
    "# 创建一个10x10的棋盘，用数字表示位置\n",
    "# chessboard = [[i * 10 + j if (i + j) % 2 == 0 else ' ' for j in range(10)] for i in range(10)]\n",
    "# 替换棋盘中的 A、Q 和 * 为自增数字\n",
    "count = 1\n",
    "for i in range(10):\n",
    "    for j in range(10):\n",
    "        if chessboard[i][j] == 'A':\n",
    "            chessboardNum[i][j] = count\n",
    "            count += 1\n",
    "        elif chessboard[i][j] == 'Q':\n",
    "            chessboardNum[i][j] = count\n",
    "            count += 1\n",
    "        elif chessboard[i][j] == '*':\n",
    "            chessboardNum[i][j] = count\n",
    "            count += 1\n",
    "\n",
    "# 打印替换后的棋盘\n",
    "# for row in chessboard:\n",
    "#     print(' '.join(f'{x:2d}' if isinstance(x, int) else '  ' for x in row))\n",
    "# print(\"\\n\")\n",
    "\n",
    "# # 打印棋盘\n",
    "\n",
    "# for row in chessboardFirst:\n",
    "#     print('  '.join(row))\n",
    "BoardStatus()\n",
    "\n",
    "sboard=chessboardFirst\n",
    "def BoardStatus():\n",
    "    for row in sboard:\n",
    "        print('  '.join(row))\n",
    "    print(\"\\n\")\n",
    "    for row in chessboard:\n",
    "        print(' '.join(f'{x:2d}' if isinstance(x, int) else '  ' for x in row))\n"
   ]
  },
  {
   "cell_type": "code",
   "execution_count": null,
   "metadata": {},
   "outputs": [],
   "source": []
  },
  {
   "cell_type": "code",
   "execution_count": null,
   "metadata": {},
   "outputs": [
    {
     "ename": "IndentationError",
     "evalue": "expected an indented block after 'for' statement on line 11 (4108665055.py, line 12)",
     "output_type": "error",
     "traceback": [
      "\u001b[1;36m  Cell \u001b[1;32mIn[61], line 12\u001b[1;36m\u001b[0m\n\u001b[1;33m    print('  '.join(row))\u001b[0m\n\u001b[1;37m    ^\u001b[0m\n\u001b[1;31mIndentationError\u001b[0m\u001b[1;31m:\u001b[0m expected an indented block after 'for' statement on line 11\n"
     ]
    }
   ],
   "source": [
    "def START_RED():\n",
    "    print(\"蓝方开\\n\")\n",
    "\n",
    "def START_BLUE():\n",
    "    print(\"红方开\\n\")\n",
    "\n",
    "def RELOAD_GAMES():\n",
    "    print(\"读档大法好\\n\")\n",
    "\n",
    "def PlayerRound():\n",
    "    print(\"轮到你了>>>>>>\\n\")\n",
    "    print(\"1:   蓝色方开始\\n2:  红色方开始\\n3:  读档\\n\")\n",
    "    choice = input(\"选择游戏模式\")\n",
    "\n",
    "    # 根据输入的字符串选择对应的函数\n",
    "    if choice == '1':\n",
    "        START_BLUE()\n",
    "    elif choice == '2':\n",
    "        START_RED()\n",
    "    elif choice == '3':\n",
    "        RELOAD_GAMES()\n",
    "    else:\n",
    "        print(\"老登请重试\")\n",
    "        menuch()\n",
    "def menuch():\n",
    "# 获取用户输入\n",
    "    print(\"1:蓝色方开始\\n2:红色方开始\\n3:读档\\n\")\n",
    "    choice = input(\"选择游戏模式\")\n",
    "\n",
    "    # 根据输入的字符串选择对应的函数\n",
    "    if choice == '1':\n",
    "        START_BLUE()\n",
    "    elif choice == '2':\n",
    "        START_RED()\n",
    "    elif choice == '3':\n",
    "        RELOAD_GAMES()\n",
    "    else:\n",
    "        print(\"老登请重试\")\n",
    "        menuch()\n",
    "    \n",
    "menuch()\n",
    "    \n"
   ]
  },
  {
   "cell_type": "code",
   "execution_count": 67,
   "metadata": {},
   "outputs": [
    {
     "name": "stdout",
     "output_type": "stream",
     "text": [
      "■ □ ■ □ ■ □ ■ □\n",
      "□ ■ □ ■ □ ■ □ ■\n",
      "■ □ ■ □ ■ □ ■ □\n",
      "□ ■ □ ■ □ ■ □ ■\n",
      "■ □ ■ □ ■ □ ■ □\n",
      "□ ■ □ ■ □ ■ □ ■\n",
      "■ □ ■ □ ■ □ ■ □\n",
      "□ ■ □ ■ □ ■ □ ■\n"
     ]
    }
   ],
   "source": []
  }
 ],
 "metadata": {
  "kernelspec": {
   "display_name": "Python 3",
   "language": "python",
   "name": "python3"
  },
  "language_info": {
   "codemirror_mode": {
    "name": "ipython",
    "version": 3
   },
   "file_extension": ".py",
   "mimetype": "text/x-python",
   "name": "python",
   "nbconvert_exporter": "python",
   "pygments_lexer": "ipython3",
   "version": "3.12.3"
  }
 },
 "nbformat": 4,
 "nbformat_minor": 2
}
